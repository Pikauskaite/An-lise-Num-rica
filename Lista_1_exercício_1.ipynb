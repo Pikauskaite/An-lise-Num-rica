{
  "nbformat": 4,
  "nbformat_minor": 0,
  "metadata": {
    "colab": {
      "provenance": []
    },
    "kernelspec": {
      "name": "python3",
      "display_name": "Python 3"
    },
    "language_info": {
      "name": "python"
    }
  },
  "cells": [
    {
      "cell_type": "code",
      "source": [
        "import sys"
      ],
      "metadata": {
        "id": "75UPTGvLrT4n"
      },
      "execution_count": 1,
      "outputs": []
    },
    {
      "cell_type": "code",
      "source": [
        "import numpy as np"
      ],
      "metadata": {
        "id": "_Q_dfMlJrUz2"
      },
      "execution_count": 2,
      "outputs": []
    },
    {
      "cell_type": "code",
      "source": [
        "print(sys.float_info.max)  # maior número flutuante\n",
        "print(sys.float_info.min)  # menor número flutuante"
      ],
      "metadata": {
        "colab": {
          "base_uri": "https://localhost:8080/"
        },
        "id": "HFzpljaMrU_m",
        "outputId": "2514efeb-a0a1-4473-e694-909bcd70af6f"
      },
      "execution_count": 3,
      "outputs": [
        {
          "output_type": "stream",
          "name": "stdout",
          "text": [
            "1.7976931348623157e+308\n",
            "2.2250738585072014e-308\n"
          ]
        }
      ]
    },
    {
      "cell_type": "code",
      "source": [
        "print(np.finfo(float).eps)"
      ],
      "metadata": {
        "colab": {
          "base_uri": "https://localhost:8080/"
        },
        "id": "Ht4L8zy0rVB_",
        "outputId": "10d75f9c-079e-47f0-de95-01bf7dbc10c5"
      },
      "execution_count": 4,
      "outputs": [
        {
          "output_type": "stream",
          "name": "stdout",
          "text": [
            "2.220446049250313e-16\n"
          ]
        }
      ]
    },
    {
      "cell_type": "code",
      "source": [
        "x1 = 1.e-15\n",
        "x2 = 1.e+15\n",
        "y1 = (1 + x1 - 1) / x1\n",
        "y2 = (1 + x2 - 1) / x2\n",
        "print(y1)  # resultado para x1\n",
        "print(y2)  # resultado para x2"
      ],
      "metadata": {
        "colab": {
          "base_uri": "https://localhost:8080/"
        },
        "id": "tvNlS4zKrVEW",
        "outputId": "53dc676c-e944-441a-cb40-5237c27c0e27"
      },
      "execution_count": 5,
      "outputs": [
        {
          "output_type": "stream",
          "name": "stdout",
          "text": [
            "1.1102230246251565\n",
            "1.0\n"
          ]
        }
      ]
    },
    {
      "cell_type": "code",
      "source": [
        "exato = 1\n",
        "erro_abs1 = abs(y1 - exato)\n",
        "erro_abs2 = abs(y2 - exato)\n",
        "erro_rel1 = abs(y1 - exato) / abs(exato)\n",
        "erro_rel2 = abs(y2 - exato) / abs(exato)\n",
        "print(erro_abs1, erro_rel1)  # erros para x1\n",
        "print(erro_abs2, erro_rel2)  # erros para x2"
      ],
      "metadata": {
        "colab": {
          "base_uri": "https://localhost:8080/"
        },
        "id": "WXPzkCbFrVGm",
        "outputId": "7c701054-8033-452c-d8a8-a42c04dd2f2f"
      },
      "execution_count": 6,
      "outputs": [
        {
          "output_type": "stream",
          "name": "stdout",
          "text": [
            "0.11022302462515654 0.11022302462515654\n",
            "0.0 0.0\n"
          ]
        }
      ]
    }
  ]
}