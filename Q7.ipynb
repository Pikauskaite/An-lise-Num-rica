{
  "nbformat": 4,
  "nbformat_minor": 0,
  "metadata": {
    "colab": {
      "provenance": []
    },
    "kernelspec": {
      "name": "python3",
      "display_name": "Python 3"
    },
    "language_info": {
      "name": "python"
    }
  },
  "cells": [
    {
      "cell_type": "code",
      "execution_count": 5,
      "metadata": {
        "id": "wEwIqjxCDXvh"
      },
      "outputs": [],
      "source": [
        "import math\n",
        "\n",
        "def f(x):\n",
        "    print(\"Digite o número positivo para encontrar a raiz quadrada: \")\n",
        "    a = float(input())\n",
        "    er = 100\n",
        "    raiz = 0.1\n",
        "    cont = 0\n",
        "\n",
        "    raizreal = math.sqrt(a)\n",
        "\n",
        "    while cont < 10:\n",
        "        raiz = (raiz * ((raiz * 2) + 3 * a) / (3 * (raiz ** 2) + a))\n",
        "        er = abs(math.sqrt(a) - raiz)\n",
        "        cont += 1\n",
        "\n",
        "    print(\"Raíz aproximada obtida: %f\\nIterações: %i\\nRaíz Real: %f\\nErro Absoluto: %f\" % (raiz, cont, raizreal, er))"
      ]
    }
  ]
}