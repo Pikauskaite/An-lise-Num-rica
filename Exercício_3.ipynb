{
  "nbformat": 4,
  "nbformat_minor": 0,
  "metadata": {
    "colab": {
      "provenance": []
    },
    "kernelspec": {
      "name": "python3",
      "display_name": "Python 3"
    },
    "language_info": {
      "name": "python"
    }
  },
  "cells": [
    {
      "cell_type": "code",
      "execution_count": 1,
      "metadata": {
        "colab": {
          "base_uri": "https://localhost:8080/"
        },
        "id": "45FkcvzrBeJs",
        "outputId": "c7ead32e-45a0-45dc-cd9f-2b519c1429d1"
      },
      "outputs": [
        {
          "output_type": "stream",
          "name": "stdout",
          "text": [
            "I1 = 0.36787944117144233\n",
            "I2 = 0.26424111765711533\n",
            "I3 = 0.207276647028654\n",
            "I4 = 0.17089341188538398\n",
            "I5 = 0.14553294057308008\n",
            "I6 = 0.1268023565615195\n",
            "I7 = 0.11238350406936348\n",
            "I8 = 0.10093196744509214\n",
            "I9 = 0.09161229299417073\n",
            "I10 = 0.0838770700582927\n",
            "Limite exato = 0\n"
          ]
        }
      ],
      "source": [
        "import math\n",
        "\n",
        "# Definir número de iterações e valor inicial de I\n",
        "n = 10\n",
        "I = (1/math.e)*(math.e-1)\n",
        "\n",
        "# Loop para atualizar o valor de I\n",
        "for i in range(n):\n",
        "    I = 1 - (i+1)*I\n",
        "    print(f\"I{i+1} = {I}\")\n",
        "\n",
        "# Calcular o limite exato\n",
        "limite = 0\n",
        "print(f\"Limite exato = {limite}\")"
      ]
    },
    {
      "cell_type": "code",
      "source": [
        "import math\n",
        "\n",
        "# Definir número de iterações e valor inicial de I\n",
        "n = 10\n",
        "I = (1/math.e)*(math.e-1)\n",
        "\n",
        "# Loop para atualizar o valor de I\n",
        "for i in range(n):\n",
        "    I = 1 - (i+1)*I\n",
        "    print(f\"I{i+1} = {I}\")\n",
        "\n",
        "# Calcular o limite exato\n",
        "A = math.e/(math.e-1)\n",
        "limite = A*(1/(n+2))**n\n",
        "print(f\"Limite exato = {limite}\")"
      ],
      "metadata": {
        "colab": {
          "base_uri": "https://localhost:8080/"
        },
        "id": "aFCu0fEKBrwK",
        "outputId": "2e4dddd4-8a4f-4d72-8328-6bbd52cdc38f"
      },
      "execution_count": 2,
      "outputs": [
        {
          "output_type": "stream",
          "name": "stdout",
          "text": [
            "I1 = 0.36787944117144233\n",
            "I2 = 0.26424111765711533\n",
            "I3 = 0.207276647028654\n",
            "I4 = 0.17089341188538398\n",
            "I5 = 0.14553294057308008\n",
            "I6 = 0.1268023565615195\n",
            "I7 = 0.11238350406936348\n",
            "I8 = 0.10093196744509214\n",
            "I9 = 0.09161229299417073\n",
            "I10 = 0.0838770700582927\n",
            "Limite exato = 2.5549807016108906e-11\n"
          ]
        }
      ]
    },
    {
      "cell_type": "code",
      "source": [
        "import math\n",
        "import matplotlib.pyplot as plt\n",
        "\n",
        "def calculate_sequence(n):\n",
        "    i = (1 / math.e) * (math.e - 1)\n",
        "    sequence = [i]\n",
        "    for j in range(n):\n",
        "        i = 1 - (j + 1) * i\n",
        "        sequence.append(i)\n",
        "    return sequence\n",
        "\n",
        "n_terms = 160\n",
        "sequence = calculate_sequence(n_terms)\n",
        "\n",
        "limit = 0\n",
        "for n in range(1, n_terms + 1):\n",
        "    limit = 1 / (n + limit)\n",
        "\n",
        "exact_value = limit * (1 / math.e)\n",
        "\n",
        "print(f\"Valor exato: {exact_value}\")\n",
        "print(f\"Valor aproximado: {sequence[-1]}\")\n",
        "\n",
        "plt.plot(sequence)\n",
        "plt.show()\n",
        "\n"
      ],
      "metadata": {
        "colab": {
          "base_uri": "https://localhost:8080/",
          "height": 313
        },
        "id": "sI7czpHOCJ2X",
        "outputId": "4fc32288-d7a6-4ead-be64-92145332846a"
      },
      "execution_count": 3,
      "outputs": [
        {
          "output_type": "stream",
          "name": "stdout",
          "text": [
            "Valor exato: 0.0022991561352844474\n",
            "Valor aproximado: -5.8598138707018475e+267\n"
          ]
        },
        {
          "output_type": "display_data",
          "data": {
            "text/plain": [
              "<Figure size 432x288 with 1 Axes>"
            ],
            "image/png": "[encoded data removed]"
          },
          "metadata": {
            "needs_background": "light"
          }
        }
      ]
    }
  ]
}